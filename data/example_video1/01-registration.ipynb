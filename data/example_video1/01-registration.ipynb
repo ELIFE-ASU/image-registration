{
 "cells": [
  {
   "cell_type": "markdown",
   "id": "dated-acceptance",
   "metadata": {},
   "source": [
    "# Data Splitting and Image Registration\n",
    "\n",
    "The preprocessing generally consists of the following basic steps:\n",
    "1. Splitting the video into the before and after puncture phases\n",
    "2. For each phase:\n",
    "  1. Initial preprocessing which consists of some or all of the following\n",
    "    1. Pseudo-flat field correction\n",
    "    2. Coarse frame alignment\n",
    "    3. Backgrounds Subtraction\n",
    "    4. Copping\n",
    "  2. Frame-by-frame image registration"
   ]
  },
  {
   "cell_type": "code",
   "execution_count": null,
   "id": "delayed-resistance",
   "metadata": {},
   "outputs": [],
   "source": [
    "using DrWatson\n",
    "@quickactivate()\n",
    "using Interact, Queryverse\n",
    "include(srcdir(\"reg.jl\"));"
   ]
  },
  {
   "cell_type": "code",
   "execution_count": null,
   "id": "5505d2b1",
   "metadata": {},
   "outputs": [],
   "source": [
    "# You need to change directory to the directory in which the data resides\n",
    "cd(datadir(\"example_video1\"))"
   ]
  },
  {
   "cell_type": "code",
   "execution_count": null,
   "id": "22f0603f",
   "metadata": {},
   "outputs": [],
   "source": [
    "\"\"\"\n",
    "Visualize videos using a slider to move between frames.\n",
    "\"\"\"\n",
    "function visualize(frames)\n",
    "    @manipulate throttle=0.1 for t=1:size(frames, timedim(frames))\n",
    "        frames[time=t]\n",
    "    end\n",
    "end"
   ]
  },
  {
   "cell_type": "markdown",
   "id": "2f2793ce",
   "metadata": {},
   "source": [
    "We are going to have a global `force` option to forcibly recompute things."
   ]
  },
  {
   "cell_type": "code",
   "execution_count": null,
   "id": "7a69a23d",
   "metadata": {},
   "outputs": [],
   "source": [
    "force = false;"
   ]
  },
  {
   "cell_type": "markdown",
   "id": "c359a7cb",
   "metadata": {},
   "source": [
    "## Loading and Splitting Video\n",
    "\n",
    "We start out by loading the `video.avi` file, and visualize it to identify the frame at which the puncture happens."
   ]
  },
  {
   "cell_type": "code",
   "execution_count": null,
   "id": "material-fraction",
   "metadata": {},
   "outputs": [],
   "source": [
    "frames = loadframes(\"video.avi\"; color=Gray{N0f16});"
   ]
  },
  {
   "cell_type": "code",
   "execution_count": null,
   "id": "downtown-foundation",
   "metadata": {},
   "outputs": [],
   "source": [
    "visualize(frames)"
   ]
  },
  {
   "cell_type": "markdown",
   "id": "eaa5c659",
   "metadata": {},
   "source": [
    "If there is a puncture the video needs to be split into a \"before\" phase (the frames preceeding the puncture), and the \"after\" phase which begins some number of frames after the puncture until either the end of the video or some major event (e.g. a subsequent puncture or a bumped table). If you are processing the whole video uninterrupted then continue forward with the frames variable\n",
    "\n",
    "We visualize these to make sure we are pleased with the split."
   ]
  },
  {
   "cell_type": "code",
   "execution_count": null,
   "id": "e439ba98",
   "metadata": {},
   "outputs": [],
   "source": [
    "# Your job is to choose the ranges below to trim out the puncture\n",
    "before, after = frames[:,:,1:246], frames[:,:,297:end];"
   ]
  },
  {
   "cell_type": "code",
   "execution_count": null,
   "id": "02b93d2e",
   "metadata": {},
   "outputs": [],
   "source": [
    "visualize(before)"
   ]
  },
  {
   "cell_type": "code",
   "execution_count": null,
   "id": "afa71ad3",
   "metadata": {},
   "outputs": [],
   "source": [
    "visualize(after)"
   ]
  },
  {
   "cell_type": "markdown",
   "id": "bba21709",
   "metadata": {},
   "source": [
    "## Processing the frames before the puncture"
   ]
  },
  {
   "cell_type": "code",
   "execution_count": null,
   "id": "89f33c29",
   "metadata": {},
   "outputs": [],
   "source": [
    "beforeregdir = joinpath(\"before\", \"registered\");"
   ]
  },
  {
   "cell_type": "code",
   "execution_count": null,
   "id": "3bab84f6",
   "metadata": {
    "scrolled": true
   },
   "outputs": [],
   "source": [
    "@time beforereg = before |>\n",
    "    correctorload(beforeregdir; force=true, regularize=true, ffsubtract=true, cropvid=true);"
   ]
  },
  {
   "cell_type": "code",
   "execution_count": null,
   "id": "65f67880",
   "metadata": {},
   "outputs": [],
   "source": [
    "visualize(beforereg)"
   ]
  },
  {
   "cell_type": "code",
   "execution_count": null,
   "id": "670a6f46",
   "metadata": {},
   "outputs": [],
   "source": [
    "size(beforereg)"
   ]
  },
  {
   "cell_type": "code",
   "execution_count": null,
   "id": "308a3ed5",
   "metadata": {},
   "outputs": [],
   "source": [
    "rm(beforeregdir; force=true, recursive=true)\n",
    "mkpath(beforeregdir)\n",
    "saveframes(beforeregdir, beforereg);"
   ]
  },
  {
   "cell_type": "markdown",
   "id": "894b08f6",
   "metadata": {},
   "source": [
    "## Process the frames after the puncture"
   ]
  },
  {
   "cell_type": "code",
   "execution_count": null,
   "id": "cf8285ee",
   "metadata": {},
   "outputs": [],
   "source": [
    "afterregdir = joinpath(\"after\", \"registered\");"
   ]
  },
  {
   "cell_type": "code",
   "execution_count": null,
   "id": "13f2663f",
   "metadata": {},
   "outputs": [],
   "source": [
    "@time afterreg = after |>\n",
    "    correctorload(afterregdir; force=true, regularize=true, ffsubtract=true, cropvid=true);"
   ]
  },
  {
   "cell_type": "code",
   "execution_count": null,
   "id": "04640040",
   "metadata": {},
   "outputs": [],
   "source": [
    "visualize(afterreg)"
   ]
  },
  {
   "cell_type": "code",
   "execution_count": null,
   "id": "f0fd6332",
   "metadata": {},
   "outputs": [],
   "source": [
    "size(afterreg)"
   ]
  },
  {
   "cell_type": "code",
   "execution_count": null,
   "id": "f81b8f7c",
   "metadata": {},
   "outputs": [],
   "source": [
    "rm(afterregdir; force=true, recursive=true)\n",
    "mkpath(afterregdir)\n",
    "saveframes(afterregdir, afterreg);"
   ]
  }
 ],
 "metadata": {
  "@webio": {
   "lastCommId": "f0961eaa5c414f4e8b2aedd59267b976",
   "lastKernelId": "57499845-f079-4ce4-abb0-ac714781a42b"
  },
  "kernelspec": {
   "display_name": "Julia 1.7.3",
   "language": "julia",
   "name": "julia-1.7"
  },
  "language_info": {
   "file_extension": ".jl",
   "mimetype": "application/julia",
   "name": "julia",
   "version": "1.7.3"
  }
 },
 "nbformat": 4,
 "nbformat_minor": 5
}
