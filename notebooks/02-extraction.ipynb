{
 "cells": [
  {
   "cell_type": "markdown",
   "id": "9868dce8-e515-4862-8ec7-ddbb0a922957",
   "metadata": {},
   "source": [
    "# Signal Extraction"
   ]
  },
  {
   "cell_type": "code",
   "execution_count": null,
   "id": "f55c73c1-03b7-4d42-8abe-22eca192d168",
   "metadata": {},
   "outputs": [],
   "source": [
    "using DrWatson\n",
    "@quickactivate()\n",
    "using Interact, Queryverse\n",
    "include(srcdir(\"extraction.jl\"));\n",
    "include(srcdir(\"reg.jl\"));"
   ]
  },
  {
   "cell_type": "code",
   "execution_count": null,
   "id": "7f27c89d-d784-4fd5-a1da-9b36572beb52",
   "metadata": {},
   "outputs": [],
   "source": [
    "cd(datadir(\"2021-06-14\", \"4xgcamp1exp5scap3_t1\"))"
   ]
  },
  {
   "cell_type": "code",
   "execution_count": null,
   "id": "4b477df6-7c3e-468c-b9ad-80066728d4e4",
   "metadata": {},
   "outputs": [],
   "source": [
    "force = false;"
   ]
  },
  {
   "cell_type": "markdown",
   "id": "7cb7c863",
   "metadata": {},
   "source": [
    "## Full Video"
   ]
  },
  {
   "cell_type": "code",
   "execution_count": null,
   "id": "31cf9f01",
   "metadata": {},
   "outputs": [],
   "source": [
    "fullregdir = joinpath(\"full\", \"registered\")"
   ]
  },
  {
   "cell_type": "code",
   "execution_count": null,
   "id": "e24b9d0d",
   "metadata": {},
   "outputs": [],
   "source": [
    "@time cells = segment(\"full\", fullregdir;\n",
    "                      postprocessor_min_cell_size=40,\n",
    "                      postprocessor_max_cell_size=250,\n",
    "                      postprocessor_preferred_cell_size=100,\n",
    "                      percentage_of_seeds=0.40);"
   ]
  },
  {
   "cell_type": "code",
   "execution_count": null,
   "id": "a0e464be",
   "metadata": {},
   "outputs": [],
   "source": [
    "fullreg = loadframes(fullregdir);\n",
    "fullreg[time=1]"
   ]
  },
  {
   "cell_type": "code",
   "execution_count": null,
   "id": "7c3efd29",
   "metadata": {},
   "outputs": [],
   "source": [
    "marksegments(fullreg[time=1], cells)\n",
    "series = signal(fullreg, cells);\n",
    "variation = baselinesubtract(series);"
   ]
  },
  {
   "cell_type": "code",
   "execution_count": null,
   "id": "b389c03f",
   "metadata": {},
   "outputs": [],
   "source": [
    "@vlplot(\n",
    "    :bar,\n",
    "    x=1:size(variation,2),\n",
    "    y={vec(var(variation; dims=1)),\n",
    "    scale={type=:log, base=10}},\n",
    "    height=300,\n",
    "    width=400)"
   ]
  },
  {
   "cell_type": "code",
   "execution_count": null,
   "id": "3ec82879",
   "metadata": {},
   "outputs": [],
   "source": [
    "varcut = 1e-4\n",
    "marksegments(fullreg[time=1], cells[vec(var(variation; dims=1)) .> varcut])"
   ]
  },
  {
   "cell_type": "code",
   "execution_count": null,
   "id": "c346a51c",
   "metadata": {},
   "outputs": [],
   "source": [
    "trimmedcells = cells[vec(var(variation; dims=1)) .> varcut];\n",
    "trimmedseries = signal(fullreg, trimmedcells);\n",
    "seriestable(trimmedseries) |>\n",
    "    @vlplot(\n",
    "        :line,\n",
    "        x = :timestep,\n",
    "        y = :value,\n",
    "        color = :id,\n",
    "        width=600,\n",
    "        height=475\n",
    "    )"
   ]
  },
  {
   "cell_type": "code",
   "execution_count": null,
   "id": "91de4e8b",
   "metadata": {},
   "outputs": [],
   "source": [
    "shiftedseries = trimmedseries .- vec(mean(trimmedseries; dims=2));\n",
    "seriestable(shiftedseries) |>\n",
    "    @vlplot(\n",
    "        :line,\n",
    "        x = :timestep,\n",
    "        y = :value,\n",
    "        color = :id,\n",
    "        width=600,\n",
    "        height=475\n",
    "    )"
   ]
  },
  {
   "cell_type": "code",
   "execution_count": null,
   "id": "29956ce0",
   "metadata": {},
   "outputs": [],
   "source": [
    "save(joinpath(\"full\", \"cells.csv\"), celltable(trimmedcells))\n",
    "save(joinpath(\"full\", \"series.csv\"), seriestable(shiftedseries))"
   ]
  },
  {
   "cell_type": "markdown",
   "id": "d6948823-5a23-4f51-baa5-8582cfbd96b4",
   "metadata": {
    "tags": []
   },
   "source": [
    "## Before Puncture"
   ]
  },
  {
   "cell_type": "code",
   "execution_count": null,
   "id": "acdffc10",
   "metadata": {},
   "outputs": [],
   "source": [
    "beforeregdir = joinpath(\"before\", \"registered\");"
   ]
  },
  {
   "cell_type": "code",
   "execution_count": null,
   "id": "6c0ac006-3f56-431a-85e8-98bbe42e38a8",
   "metadata": {},
   "outputs": [],
   "source": [
    "@time cells = segment(\"before\", beforeregdir;\n",
    "                      postprocessor_min_cell_size=40,\n",
    "                      postprocessor_max_cell_size=250,\n",
    "                      postprocessor_preferred_cell_size=100,\n",
    "                      percentage_of_seeds=0.40);"
   ]
  },
  {
   "cell_type": "code",
   "execution_count": null,
   "id": "054169db",
   "metadata": {},
   "outputs": [],
   "source": [
    "beforereg = loadframes(beforeregdir);\n",
    "beforereg[time=1]"
   ]
  },
  {
   "cell_type": "code",
   "execution_count": null,
   "id": "d6cbc23b-7d9b-4341-b25f-4a070d3e0042",
   "metadata": {},
   "outputs": [],
   "source": [
    "marksegments(beforereg[time=1], cells)\n",
    "series = signal(beforereg, cells);\n",
    "variation = baselinesubtract(series);"
   ]
  },
  {
   "cell_type": "code",
   "execution_count": null,
   "id": "b791a4e6-fbc4-4c1d-a55b-71aee8e7f509",
   "metadata": {},
   "outputs": [],
   "source": [
    "@vlplot(\n",
    "    :bar,\n",
    "    x=1:size(variation,2),\n",
    "    y={vec(var(variation; dims=1)),\n",
    "    scale={type=:log, base=10}},\n",
    "    height=300,\n",
    "    width=400)"
   ]
  },
  {
   "cell_type": "code",
   "execution_count": null,
   "id": "f088576a-6616-4f83-90a3-a663b8379b2c",
   "metadata": {},
   "outputs": [],
   "source": [
    "varcut = 1e-4\n",
    "marksegments(beforereg[time=1], cells[vec(var(variation; dims=1)) .> varcut])"
   ]
  },
  {
   "cell_type": "code",
   "execution_count": null,
   "id": "cb8ace43-4730-41b0-bec3-659df04eb066",
   "metadata": {},
   "outputs": [],
   "source": [
    "trimmedcells = cells[vec(var(variation; dims=1)) .> varcut];\n",
    "trimmedseries = signal(beforereg, trimmedcells);\n",
    "seriestable(trimmedseries) |>\n",
    "    @vlplot(\n",
    "        :line,\n",
    "        x = :timestep,\n",
    "        y = :value,\n",
    "        color = :id,\n",
    "        width=600,\n",
    "        height=475\n",
    "    )"
   ]
  },
  {
   "cell_type": "code",
   "execution_count": null,
   "id": "936f826a-9c67-4f76-939b-99a13a1f8d73",
   "metadata": {},
   "outputs": [],
   "source": [
    "shiftedseries = trimmedseries .- vec(mean(trimmedseries; dims=2));\n",
    "seriestable(shiftedseries) |>\n",
    "    @vlplot(\n",
    "        :line,\n",
    "        x = :timestep,\n",
    "        y = :value,\n",
    "        color = :id,\n",
    "        width=600,\n",
    "        height=475\n",
    "    )"
   ]
  },
  {
   "cell_type": "code",
   "execution_count": null,
   "id": "297f3119-d737-49ff-b0db-98eba059b064",
   "metadata": {},
   "outputs": [],
   "source": [
    "save(joinpath(\"before\", \"cells.csv\"), celltable(trimmedcells))\n",
    "save(joinpath(\"before\", \"series.csv\"), seriestable(shiftedseries))"
   ]
  },
  {
   "cell_type": "markdown",
   "id": "c5354bbb-18e1-4e73-bef5-b8734ea0c3da",
   "metadata": {},
   "source": [
    "## After Puncture "
   ]
  },
  {
   "cell_type": "code",
   "execution_count": null,
   "id": "d411ac03",
   "metadata": {},
   "outputs": [],
   "source": [
    "afterregdir = joinpath(\"after\", \"registered\");"
   ]
  },
  {
   "cell_type": "code",
   "execution_count": null,
   "id": "3650d8fe-1e3f-49bc-825d-2ad074f151be",
   "metadata": {},
   "outputs": [],
   "source": [
    "@time cells = segment(\"after\", afterregdir;\n",
    "                      postprocessor_min_cell_size=40,\n",
    "                      postprocessor_max_cell_size=250,\n",
    "                      postprocessor_preferred_cell_size=100,\n",
    "                      percentage_of_seeds=0.40);"
   ]
  },
  {
   "cell_type": "code",
   "execution_count": null,
   "id": "8dd9fd84",
   "metadata": {},
   "outputs": [],
   "source": [
    "afterreg = loadframes(afterregdir)\n",
    "afterreg[time=1]"
   ]
  },
  {
   "cell_type": "code",
   "execution_count": null,
   "id": "6db4404d-3301-4814-ba4b-044d2edea383",
   "metadata": {},
   "outputs": [],
   "source": [
    "marksegments(afterreg[time=1], cells)\n",
    "series = signal(afterreg, cells);\n",
    "variation = baselinesubtract(series);"
   ]
  },
  {
   "cell_type": "code",
   "execution_count": null,
   "id": "044b59a5-b414-4489-b292-8af613844955",
   "metadata": {},
   "outputs": [],
   "source": [
    "@vlplot(\n",
    "    :bar,\n",
    "    x=1:size(variation,2),\n",
    "    y={vec(var(variation; dims=1)),\n",
    "    scale={type=:log, base=10}},\n",
    "    height=300,\n",
    "    width=400)"
   ]
  },
  {
   "cell_type": "code",
   "execution_count": null,
   "id": "94c12d93-8575-4aeb-906b-674285386b5e",
   "metadata": {},
   "outputs": [],
   "source": [
    "varcut = 5e-5\n",
    "marksegments(afterreg[time=1], cells[vec(var(variation; dims=1)) .> varcut])"
   ]
  },
  {
   "cell_type": "code",
   "execution_count": null,
   "id": "aaadb71f-0f52-49cc-83e2-89b2c847e212",
   "metadata": {},
   "outputs": [],
   "source": [
    "trimmedcells = cells[vec(var(variation; dims=1)) .> varcut];\n",
    "trimmedseries = signal(afterreg, trimmedcells);\n",
    "seriestable(trimmedseries) |>\n",
    "    @vlplot(\n",
    "        :line,\n",
    "        x = :timestep,\n",
    "        y = :value,\n",
    "        color = :id,\n",
    "        width=600,\n",
    "        height=475\n",
    "    )"
   ]
  },
  {
   "cell_type": "code",
   "execution_count": null,
   "id": "31c85afc-2f0d-4118-9b61-2d8c4030658a",
   "metadata": {},
   "outputs": [],
   "source": [
    "shiftedseries = trimmedseries .- vec(mean(trimmedseries; dims=2));\n",
    "seriestable(shiftedseries) |>\n",
    "    @vlplot(\n",
    "        :line,\n",
    "        x = :timestep,\n",
    "        y = :value,\n",
    "        color = :id,\n",
    "        width=600,\n",
    "        height=475\n",
    "    )"
   ]
  },
  {
   "cell_type": "code",
   "execution_count": null,
   "id": "b1f14d94-716b-45b1-8fc5-199f0361cfc4",
   "metadata": {},
   "outputs": [],
   "source": [
    "save(joinpath(\"after\", \"cells.csv\"), celltable(trimmedcells))\n",
    "save(joinpath(\"after\", \"series.csv\"), seriestable(shiftedseries))"
   ]
  }
 ],
 "metadata": {
  "kernelspec": {
   "display_name": "Julia 1.7.3",
   "language": "julia",
   "name": "julia-1.7"
  },
  "language_info": {
   "file_extension": ".jl",
   "mimetype": "application/julia",
   "name": "julia",
   "version": "1.6.0"
  }
 },
 "nbformat": 4,
 "nbformat_minor": 5
}
