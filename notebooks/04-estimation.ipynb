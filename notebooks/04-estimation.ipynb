{
 "cells": [
  {
   "cell_type": "markdown",
   "metadata": {},
   "source": [
    "# Informational Architecture"
   ]
  },
  {
   "cell_type": "code",
   "execution_count": null,
   "metadata": {},
   "outputs": [],
   "source": [
    "using Distributed\n",
    "addprocs(16);"
   ]
  },
  {
   "cell_type": "code",
   "execution_count": 1,
   "metadata": {},
   "outputs": [
    {
     "name": "stdout",
     "output_type": "stream",
     "text": [
      "connecting to worker 1 out of 160\n",
      "connecting to worker 2 out of 160\n",
      "connecting to worker 3 out of 160\n",
      "connecting to worker 4 out of 160\n",
      "connecting to worker 5 out of 160\n",
      "connecting to worker 6 out of 160\n",
      "connecting to worker 7 out of 160\n",
      "connecting to worker 8 out of 160\n",
      "connecting to worker 9 out of 160\n",
      "connecting to worker 10 out of 160\n",
      "connecting to worker 11 out of 160\n",
      "connecting to worker 12 out of 160\n",
      "connecting to worker 13 out of 160\n",
      "connecting to worker 14 out of 160\n",
      "connecting to worker 15 out of 160\n",
      "connecting to worker 16 out of 160\n",
      "connecting to worker 17 out of 160\n",
      "connecting to worker 18 out of 160\n",
      "connecting to worker 19 out of 160\n",
      "connecting to worker 20 out of 160\n",
      "connecting to worker 21 out of 160\n",
      "connecting to worker 22 out of 160\n",
      "connecting to worker 23 out of 160\n",
      "connecting to worker 24 out of 160\n",
      "connecting to worker 25 out of 160\n",
      "connecting to worker 26 out of 160\n",
      "connecting to worker 27 out of 160\n",
      "connecting to worker 28 out of 160\n",
      "connecting to worker 29 out of 160\n",
      "connecting to worker 30 out of 160\n",
      "connecting to worker 31 out of 160\n",
      "connecting to worker 32 out of 160\n",
      "connecting to worker 33 out of 160\n",
      "connecting to worker 34 out of 160\n",
      "connecting to worker 35 out of 160\n",
      "connecting to worker 36 out of 160\n",
      "connecting to worker 37 out of 160\n",
      "connecting to worker 38 out of 160\n",
      "connecting to worker 39 out of 160\n",
      "connecting to worker 40 out of 160\n",
      "connecting to worker 41 out of 160\n",
      "connecting to worker 42 out of 160\n",
      "connecting to worker 43 out of 160\n",
      "connecting to worker 44 out of 160\n",
      "connecting to worker 45 out of 160\n",
      "connecting to worker 46 out of 160\n",
      "connecting to worker 47 out of 160\n",
      "connecting to worker 48 out of 160\n",
      "connecting to worker 49 out of 160\n",
      "connecting to worker 50 out of 160\n",
      "connecting to worker 51 out of 160\n",
      "connecting to worker 52 out of 160\n",
      "connecting to worker 53 out of 160\n",
      "connecting to worker 54 out of 160\n",
      "connecting to worker 55 out of 160\n",
      "connecting to worker 56 out of 160\n",
      "connecting to worker 57 out of 160\n",
      "connecting to worker 58 out of 160\n",
      "connecting to worker 59 out of 160\n",
      "connecting to worker 60 out of 160\n",
      "connecting to worker 61 out of 160\n",
      "connecting to worker 62 out of 160\n",
      "connecting to worker 63 out of 160\n",
      "connecting to worker 64 out of 160\n",
      "connecting to worker 65 out of 160\n",
      "connecting to worker 66 out of 160\n",
      "connecting to worker 67 out of 160\n",
      "connecting to worker 68 out of 160\n",
      "connecting to worker 69 out of 160\n",
      "connecting to worker 70 out of 160\n",
      "connecting to worker 71 out of 160\n",
      "connecting to worker 72 out of 160\n",
      "connecting to worker 73 out of 160\n",
      "connecting to worker 74 out of 160\n",
      "connecting to worker 75 out of 160\n",
      "connecting to worker 76 out of 160\n",
      "connecting to worker 77 out of 160\n",
      "connecting to worker 78 out of 160\n",
      "connecting to worker 79 out of 160\n",
      "connecting to worker 80 out of 160\n",
      "connecting to worker 81 out of 160\n",
      "connecting to worker 82 out of 160\n",
      "connecting to worker 83 out of 160\n",
      "connecting to worker 84 out of 160\n",
      "connecting to worker 85 out of 160\n",
      "connecting to worker 86 out of 160\n",
      "connecting to worker 87 out of 160\n",
      "connecting to worker 88 out of 160\n",
      "connecting to worker 89 out of 160\n",
      "connecting to worker 90 out of 160\n",
      "connecting to worker 91 out of 160\n",
      "connecting to worker 92 out of 160\n",
      "connecting to worker 93 out of 160\n",
      "connecting to worker 94 out of 160\n",
      "connecting to worker 95 out of 160\n",
      "connecting to worker 96 out of 160\n",
      "connecting to worker 97 out of 160\n",
      "connecting to worker 98 out of 160\n",
      "connecting to worker 99 out of 160\n",
      "connecting to worker 100 out of 160\n",
      "connecting to worker 101 out of 160\n",
      "connecting to worker 102 out of 160\n",
      "connecting to worker 103 out of 160\n",
      "connecting to worker 104 out of 160\n",
      "connecting to worker 105 out of 160\n",
      "connecting to worker 106 out of 160\n",
      "connecting to worker 107 out of 160\n",
      "connecting to worker 108 out of 160\n",
      "connecting to worker 109 out of 160\n",
      "connecting to worker 110 out of 160\n",
      "connecting to worker 111 out of 160\n",
      "connecting to worker 112 out of 160\n",
      "connecting to worker 113 out of 160\n",
      "connecting to worker 114 out of 160\n",
      "connecting to worker 115 out of 160\n",
      "connecting to worker 116 out of 160\n",
      "connecting to worker 117 out of 160\n",
      "connecting to worker 118 out of 160\n",
      "connecting to worker 119 out of 160\n",
      "connecting to worker 120 out of 160\n",
      "connecting to worker 121 out of 160\n",
      "connecting to worker 122 out of 160\n",
      "connecting to worker 123 out of 160\n",
      "connecting to worker 124 out of 160\n",
      "connecting to worker 125 out of 160\n",
      "connecting to worker 126 out of 160\n",
      "connecting to worker 127 out of 160\n",
      "connecting to worker 128 out of 160\n",
      "connecting to worker 129 out of 160\n",
      "connecting to worker 130 out of 160\n",
      "connecting to worker 131 out of 160\n",
      "connecting to worker 132 out of 160\n",
      "connecting to worker 133 out of 160\n",
      "connecting to worker 134 out of 160\n",
      "connecting to worker 135 out of 160\n",
      "connecting to worker 136 out of 160\n",
      "connecting to worker 137 out of 160\n",
      "connecting to worker 138 out of 160\n",
      "connecting to worker 139 out of 160\n",
      "connecting to worker 140 out of 160\n",
      "connecting to worker 141 out of 160\n",
      "connecting to worker 142 out of 160\n",
      "connecting to worker 143 out of 160\n",
      "connecting to worker 144 out of 160\n",
      "connecting to worker 145 out of 160\n",
      "connecting to worker 146 out of 160\n",
      "connecting to worker 147 out of 160\n",
      "connecting to worker 148 out of 160\n",
      "connecting to worker 149 out of 160\n",
      "connecting to worker 150 out of 160\n",
      "connecting to worker 151 out of 160\n",
      "connecting to worker 152 out of 160\n",
      "connecting to worker 153 out of 160\n",
      "connecting to worker 154 out of 160\n",
      "connecting to worker 155 out of 160\n",
      "connecting to worker 156 out of 160\n",
      "connecting to worker 157 out of 160\n",
      "connecting to worker 158 out of 160\n",
      "connecting to worker 159 out of 160\n",
      "connecting to worker 160 out of 160\n"
     ]
    },
    {
     "data": {
      "text/plain": [
       "160-element Array{Int64,1}:\n",
       "   2\n",
       "   3\n",
       "   4\n",
       "   5\n",
       "   6\n",
       "   7\n",
       "   8\n",
       "   9\n",
       "  10\n",
       "  11\n",
       "  12\n",
       "  13\n",
       "  14\n",
       "   ⋮\n",
       " 150\n",
       " 151\n",
       " 152\n",
       " 153\n",
       " 154\n",
       " 155\n",
       " 156\n",
       " 157\n",
       " 158\n",
       " 159\n",
       " 160\n",
       " 161"
      ]
     },
     "execution_count": 1,
     "metadata": {},
     "output_type": "execute_result"
    }
   ],
   "source": [
    "using Distributed, ClusterManagers\n",
    "addprocs(SlurmManager(160))"
   ]
  },
  {
   "cell_type": "code",
   "execution_count": 2,
   "metadata": {},
   "outputs": [
    {
     "name": "stderr",
     "output_type": "stream",
     "text": [
      "\u001b[32m\u001b[1m Activating\u001b[22m\u001b[39m environment at `~/biobot-punctures/Project.toml`\n"
     ]
    }
   ],
   "source": [
    "@everywhere begin\n",
    "    using Pkg\n",
    "    Pkg.activate(\"..\")\n",
    "end"
   ]
  },
  {
   "cell_type": "code",
   "execution_count": 50,
   "metadata": {},
   "outputs": [],
   "source": [
    "using CSV, DataFrames, Distributions, DrWatson, LinearAlgebra, Plots, StatsPlots\n",
    "include(srcdir(\"information.jl\"));"
   ]
  },
  {
   "cell_type": "code",
   "execution_count": 51,
   "metadata": {},
   "outputs": [
    {
     "data": {
      "text/plain": [
       "6-element Array{String,1}:\n",
       " \"2020-11-11_1\"\n",
       " \"2020-11-11_2\"\n",
       " \"2020-11-11_3\"\n",
       " \"2020-11-17_1\"\n",
       " \"2020-11-17_2\"\n",
       " \"2020-11-18\""
      ]
     },
     "execution_count": 51,
     "metadata": {},
     "output_type": "execute_result"
    }
   ],
   "source": [
    "analysisdir = datadir(\"2020-12-11\", \"analysis\")\n",
    "readdir(analysisdir)"
   ]
  },
  {
   "cell_type": "code",
   "execution_count": 52,
   "metadata": {},
   "outputs": [],
   "source": [
    "datasetdir = joinpath(analysisdir, \"2020-11-11_1\");\n",
    "phase1dir = joinpath(datasetdir, \"phase_1\");\n",
    "phase2dir = joinpath(datasetdir, \"phase_2\");"
   ]
  },
  {
   "cell_type": "code",
   "execution_count": 53,
   "metadata": {},
   "outputs": [],
   "source": [
    "phase1_series = CSV.File(joinpath(phase1dir, \"series_trimmed.csv\")) |> DataFrame;\n",
    "phase1_com = CSV.File(joinpath(phase1dir, \"com_trimmed.csv\")) |> DataFrame;\n",
    "phase1_com[!,:phase] .= 1;\n",
    "phase1_image = load(joinpath(phase2dir, \"video.tif\"));\n",
    "phase1_δ = transpose(Array(phase1_com[:,[:x,:y]])) |> distance;"
   ]
  },
  {
   "cell_type": "code",
   "execution_count": 54,
   "metadata": {},
   "outputs": [],
   "source": [
    "phase2_series = CSV.File(joinpath(phase2dir, \"series_trimmed.csv\")) |> DataFrame;\n",
    "phase2_com = CSV.File(joinpath(phase2dir, \"com_trimmed.csv\")) |> DataFrame;\n",
    "phase2_com[!,:phase] .= 2;\n",
    "phase2_image = load(joinpath(phase2dir, \"video.tif\"));\n",
    "phase2_δ = transpose(Array(phase2_com[:,[:x,:y]])) |> distance;"
   ]
  },
  {
   "cell_type": "code",
   "execution_count": 55,
   "metadata": {},
   "outputs": [],
   "source": [
    "phase1_c = hcat([g.c for g in groupby(phase1_series, :cellid)]...);\n",
    "phase2_c = hcat([g.c for g in groupby(phase2_series, :cellid)]...);"
   ]
  },
  {
   "cell_type": "code",
   "execution_count": 56,
   "metadata": {},
   "outputs": [],
   "source": [
    "𝒩 = Normal(0, 1e-8)\n",
    "phase1_c .+= rand(𝒩, size(phase1_c)...);\n",
    "phase2_c .+= rand(𝒩, size(phase2_c)...);"
   ]
  },
  {
   "cell_type": "markdown",
   "metadata": {},
   "source": [
    "# Mutual Information"
   ]
  },
  {
   "cell_type": "code",
   "execution_count": 57,
   "metadata": {},
   "outputs": [
    {
     "data": {
      "text/plain": [
       "(9, 5, 100)"
      ]
     },
     "execution_count": 57,
     "metadata": {},
     "output_type": "execute_result"
    }
   ],
   "source": [
    "nn1, nn2, nperm = findnn(phase1_c), findnn(phase2_c), 100"
   ]
  },
  {
   "cell_type": "code",
   "execution_count": 58,
   "metadata": {},
   "outputs": [
    {
     "name": "stdout",
     "output_type": "stream",
     "text": [
      " 21.472577 seconds (7.25 M allocations: 310.567 MiB, 0.99% gc time)\n",
      "  9.068392 seconds (6.37 M allocations: 267.867 MiB, 1.10% gc time)\n"
     ]
    }
   ],
   "source": [
    "@time phase1_mi_matrix = mi_matrix(phase1_c; nperm, nn=nn1);\n",
    "@time phase2_mi_matrix = mi_matrix(phase2_c; nperm, nn=nn2);"
   ]
  },
  {
   "cell_type": "code",
   "execution_count": 59,
   "metadata": {},
   "outputs": [],
   "source": [
    "mi = DataFrame(phase=Int[],\n",
    "               source=Int[], target=Int[],\n",
    "               source_x=Float64[], source_y=Float64[], target_x=Float64[], target_y=Float64[],\n",
    "               distance=Float64[],\n",
    "               value=Float64[], p=Float64[], nperm=Int[])\n",
    "for i in 1:size(phase1_mi_matrix, 1), j in i:size(phase1_mi_matrix, 2)\n",
    "    source, source_x, source_y = phase1_com[i, [:cellid, :x, :y]]\n",
    "    target, target_x, target_y = phase1_com[j, [:cellid, :x, :y]]\n",
    "    δ = phase1_δ[i, j]\n",
    "    sig = phase1_mi_matrix[i, j]\n",
    "    push!(mi, [1, source, target, source_x, source_y, target_x, target_y, δ, sig.value, sig.p, sig.nperm])\n",
    "end\n",
    "for i in 1:size(phase2_mi_matrix, 1), j in i:size(phase2_mi_matrix, 2)\n",
    "    source, source_x, source_y = phase2_com[i, [:cellid, :x, :y]]\n",
    "    target, target_x, target_y = phase2_com[j, [:cellid, :x, :y]]\n",
    "    δ = phase2_δ[i, j]\n",
    "    sig = phase2_mi_matrix[i, j]\n",
    "    push!(mi, [2, source, target, source_x, source_y, target_x, target_y, δ, sig.value, sig.p, sig.nperm])\n",
    "end"
   ]
  },
  {
   "cell_type": "code",
   "execution_count": 60,
   "metadata": {},
   "outputs": [],
   "source": [
    "let params = @dict nperm nn1 nn2\n",
    "    fname = joinpath(datasetdir, savename(\"mi\", params, \"csv\"))\n",
    "    CSV.write(fname, mi)\n",
    "end;"
   ]
  },
  {
   "cell_type": "markdown",
   "metadata": {},
   "source": [
    "# Active Information"
   ]
  },
  {
   "cell_type": "code",
   "execution_count": 61,
   "metadata": {},
   "outputs": [],
   "source": [
    "phase1_ks, phase1_τs = estimate_embedding(phase1_c);"
   ]
  },
  {
   "cell_type": "code",
   "execution_count": 62,
   "metadata": {},
   "outputs": [],
   "source": [
    "phase2_ks, phase2_τs = estimate_embedding(phase2_c);"
   ]
  },
  {
   "cell_type": "code",
   "execution_count": 63,
   "metadata": {},
   "outputs": [],
   "source": [
    "ai = DataFrame(phase=Int[],\n",
    "               source=Int[],\n",
    "               source_x=Float64[], source_y=Float64[],\n",
    "               k=Int[], τ=Int[],\n",
    "               value=Float64[])\n",
    "for i in 1:size(phase1_c, 2)\n",
    "    source, source_x, source_y = phase1_com[i, [:cellid, :x, :y]]\n",
    "    k = phase1_ks[i]\n",
    "    τ = phase1_τs[i]\n",
    "    value = activeinfo(phase1_c[:, i]; k, τ)\n",
    "    push!(ai, [1, source, source_x, source_y, k, τ, value])\n",
    "end\n",
    "\n",
    "for i in 1:size(phase2_c, 2)\n",
    "    source, source_x, source_y = phase2_com[i, [:cellid, :x, :y]]\n",
    "    k = phase2_ks[i]\n",
    "    τ = phase2_τs[i]\n",
    "    value = activeinfo(phase2_c[:, i]; k, τ)\n",
    "    push!(ai, [2, source, source_x, source_y, k, τ, value])\n",
    "end"
   ]
  },
  {
   "cell_type": "code",
   "execution_count": 64,
   "metadata": {},
   "outputs": [
    {
     "data": {
      "text/html": [
       "<table class=\"data-frame\"><thead><tr><th></th><th>phase</th><th>source</th><th>source_x</th><th>source_y</th><th>k</th><th>τ</th><th>value</th></tr><tr><th></th><th>Int64</th><th>Int64</th><th>Float64</th><th>Float64</th><th>Int64</th><th>Int64</th><th>Float64</th></tr></thead><tbody><p>348 rows × 7 columns</p><tr><th>1</th><td>1</td><td>18</td><td>72.8974</td><td>145.022</td><td>1</td><td>1</td><td>2.04576</td></tr><tr><th>2</th><td>1</td><td>19</td><td>73.0881</td><td>151.173</td><td>1</td><td>1</td><td>3.29359</td></tr><tr><th>3</th><td>1</td><td>20</td><td>64.5041</td><td>159.257</td><td>1</td><td>1</td><td>3.48346</td></tr><tr><th>4</th><td>1</td><td>21</td><td>62.3608</td><td>182.609</td><td>1</td><td>1</td><td>3.71343</td></tr><tr><th>5</th><td>1</td><td>22</td><td>62.6136</td><td>197.611</td><td>1</td><td>1</td><td>4.35894</td></tr><tr><th>6</th><td>1</td><td>31</td><td>92.4286</td><td>145.281</td><td>1</td><td>1</td><td>3.2039</td></tr><tr><th>7</th><td>1</td><td>32</td><td>81.4372</td><td>158.033</td><td>1</td><td>1</td><td>3.75479</td></tr><tr><th>8</th><td>1</td><td>33</td><td>90.8739</td><td>154.183</td><td>1</td><td>1</td><td>3.81528</td></tr><tr><th>9</th><td>1</td><td>34</td><td>86.8677</td><td>175.241</td><td>1</td><td>1</td><td>2.34705</td></tr><tr><th>10</th><td>1</td><td>35</td><td>95.6298</td><td>189.004</td><td>1</td><td>1</td><td>2.75675</td></tr><tr><th>11</th><td>1</td><td>36</td><td>96.1405</td><td>201.438</td><td>1</td><td>1</td><td>3.05417</td></tr><tr><th>12</th><td>1</td><td>42</td><td>120.334</td><td>143.399</td><td>1</td><td>1</td><td>3.4511</td></tr><tr><th>13</th><td>1</td><td>43</td><td>110.436</td><td>167.952</td><td>1</td><td>1</td><td>3.35839</td></tr><tr><th>14</th><td>1</td><td>44</td><td>116.386</td><td>158.74</td><td>1</td><td>1</td><td>3.43346</td></tr><tr><th>15</th><td>1</td><td>45</td><td>103.98</td><td>180.529</td><td>1</td><td>1</td><td>3.6225</td></tr><tr><th>16</th><td>1</td><td>46</td><td>113.333</td><td>192.086</td><td>1</td><td>1</td><td>3.07158</td></tr><tr><th>17</th><td>1</td><td>47</td><td>113.894</td><td>181.078</td><td>1</td><td>1</td><td>3.87286</td></tr><tr><th>18</th><td>1</td><td>48</td><td>111.887</td><td>199.871</td><td>1</td><td>1</td><td>3.1677</td></tr><tr><th>19</th><td>1</td><td>49</td><td>121.12</td><td>197.435</td><td>1</td><td>1</td><td>2.60259</td></tr><tr><th>20</th><td>1</td><td>50</td><td>112.083</td><td>234.341</td><td>1</td><td>1</td><td>4.18201</td></tr><tr><th>21</th><td>1</td><td>51</td><td>119.788</td><td>221.612</td><td>1</td><td>1</td><td>3.03567</td></tr><tr><th>22</th><td>1</td><td>52</td><td>106.57</td><td>245.208</td><td>1</td><td>1</td><td>4.02776</td></tr><tr><th>23</th><td>1</td><td>53</td><td>119.996</td><td>304.739</td><td>1</td><td>1</td><td>2.65959</td></tr><tr><th>24</th><td>1</td><td>54</td><td>119.777</td><td>326.423</td><td>1</td><td>1</td><td>3.22007</td></tr><tr><th>25</th><td>1</td><td>60</td><td>137.662</td><td>120.477</td><td>1</td><td>1</td><td>3.66811</td></tr><tr><th>26</th><td>1</td><td>61</td><td>126.571</td><td>113.757</td><td>1</td><td>1</td><td>3.65942</td></tr><tr><th>27</th><td>1</td><td>62</td><td>133.788</td><td>136.307</td><td>1</td><td>1</td><td>3.32755</td></tr><tr><th>28</th><td>1</td><td>63</td><td>124.156</td><td>143.646</td><td>1</td><td>1</td><td>3.27112</td></tr><tr><th>29</th><td>1</td><td>64</td><td>138.884</td><td>158.393</td><td>1</td><td>1</td><td>3.98323</td></tr><tr><th>30</th><td>1</td><td>65</td><td>144.025</td><td>188.686</td><td>1</td><td>1</td><td>3.88931</td></tr><tr><th>&vellip;</th><td>&vellip;</td><td>&vellip;</td><td>&vellip;</td><td>&vellip;</td><td>&vellip;</td><td>&vellip;</td><td>&vellip;</td></tr></tbody></table>"
      ],
      "text/latex": [
       "\\begin{tabular}{r|ccccccc}\n",
       "\t& phase & source & source\\_x & source\\_y & k & τ & value\\\\\n",
       "\t\\hline\n",
       "\t& Int64 & Int64 & Float64 & Float64 & Int64 & Int64 & Float64\\\\\n",
       "\t\\hline\n",
       "\t1 & 1 & 18 & 72.8974 & 145.022 & 1 & 1 & 2.04576 \\\\\n",
       "\t2 & 1 & 19 & 73.0881 & 151.173 & 1 & 1 & 3.29359 \\\\\n",
       "\t3 & 1 & 20 & 64.5041 & 159.257 & 1 & 1 & 3.48346 \\\\\n",
       "\t4 & 1 & 21 & 62.3608 & 182.609 & 1 & 1 & 3.71343 \\\\\n",
       "\t5 & 1 & 22 & 62.6136 & 197.611 & 1 & 1 & 4.35894 \\\\\n",
       "\t6 & 1 & 31 & 92.4286 & 145.281 & 1 & 1 & 3.2039 \\\\\n",
       "\t7 & 1 & 32 & 81.4372 & 158.033 & 1 & 1 & 3.75479 \\\\\n",
       "\t8 & 1 & 33 & 90.8739 & 154.183 & 1 & 1 & 3.81528 \\\\\n",
       "\t9 & 1 & 34 & 86.8677 & 175.241 & 1 & 1 & 2.34705 \\\\\n",
       "\t10 & 1 & 35 & 95.6298 & 189.004 & 1 & 1 & 2.75675 \\\\\n",
       "\t11 & 1 & 36 & 96.1405 & 201.438 & 1 & 1 & 3.05417 \\\\\n",
       "\t12 & 1 & 42 & 120.334 & 143.399 & 1 & 1 & 3.4511 \\\\\n",
       "\t13 & 1 & 43 & 110.436 & 167.952 & 1 & 1 & 3.35839 \\\\\n",
       "\t14 & 1 & 44 & 116.386 & 158.74 & 1 & 1 & 3.43346 \\\\\n",
       "\t15 & 1 & 45 & 103.98 & 180.529 & 1 & 1 & 3.6225 \\\\\n",
       "\t16 & 1 & 46 & 113.333 & 192.086 & 1 & 1 & 3.07158 \\\\\n",
       "\t17 & 1 & 47 & 113.894 & 181.078 & 1 & 1 & 3.87286 \\\\\n",
       "\t18 & 1 & 48 & 111.887 & 199.871 & 1 & 1 & 3.1677 \\\\\n",
       "\t19 & 1 & 49 & 121.12 & 197.435 & 1 & 1 & 2.60259 \\\\\n",
       "\t20 & 1 & 50 & 112.083 & 234.341 & 1 & 1 & 4.18201 \\\\\n",
       "\t21 & 1 & 51 & 119.788 & 221.612 & 1 & 1 & 3.03567 \\\\\n",
       "\t22 & 1 & 52 & 106.57 & 245.208 & 1 & 1 & 4.02776 \\\\\n",
       "\t23 & 1 & 53 & 119.996 & 304.739 & 1 & 1 & 2.65959 \\\\\n",
       "\t24 & 1 & 54 & 119.777 & 326.423 & 1 & 1 & 3.22007 \\\\\n",
       "\t25 & 1 & 60 & 137.662 & 120.477 & 1 & 1 & 3.66811 \\\\\n",
       "\t26 & 1 & 61 & 126.571 & 113.757 & 1 & 1 & 3.65942 \\\\\n",
       "\t27 & 1 & 62 & 133.788 & 136.307 & 1 & 1 & 3.32755 \\\\\n",
       "\t28 & 1 & 63 & 124.156 & 143.646 & 1 & 1 & 3.27112 \\\\\n",
       "\t29 & 1 & 64 & 138.884 & 158.393 & 1 & 1 & 3.98323 \\\\\n",
       "\t30 & 1 & 65 & 144.025 & 188.686 & 1 & 1 & 3.88931 \\\\\n",
       "\t$\\dots$ & $\\dots$ & $\\dots$ & $\\dots$ & $\\dots$ & $\\dots$ & $\\dots$ & $\\dots$ \\\\\n",
       "\\end{tabular}\n"
      ],
      "text/plain": [
       "\u001b[1m348×7 DataFrame\u001b[0m\n",
       "\u001b[1m Row \u001b[0m│\u001b[1m phase \u001b[0m\u001b[1m source \u001b[0m\u001b[1m source_x \u001b[0m\u001b[1m source_y \u001b[0m\u001b[1m k     \u001b[0m\u001b[1m τ     \u001b[0m\u001b[1m value   \u001b[0m\n",
       "\u001b[1m     \u001b[0m│\u001b[90m Int64 \u001b[0m\u001b[90m Int64  \u001b[0m\u001b[90m Float64  \u001b[0m\u001b[90m Float64  \u001b[0m\u001b[90m Int64 \u001b[0m\u001b[90m Int64 \u001b[0m\u001b[90m Float64 \u001b[0m\n",
       "─────┼──────────────────────────────────────────────────────────\n",
       "   1 │     1      18   72.8974   145.022      1      1  2.04576\n",
       "   2 │     1      19   73.0881   151.173      1      1  3.29359\n",
       "   3 │     1      20   64.5041   159.257      1      1  3.48346\n",
       "   4 │     1      21   62.3608   182.609      1      1  3.71343\n",
       "   5 │     1      22   62.6136   197.611      1      1  4.35894\n",
       "   6 │     1      31   92.4286   145.281      1      1  3.2039\n",
       "   7 │     1      32   81.4372   158.033      1      1  3.75479\n",
       "   8 │     1      33   90.8739   154.183      1      1  3.81528\n",
       "   9 │     1      34   86.8677   175.241      1      1  2.34705\n",
       "  10 │     1      35   95.6298   189.004      1      1  2.75675\n",
       "  11 │     1      36   96.1405   201.438      1      1  3.05417\n",
       "  ⋮  │   ⋮      ⋮        ⋮         ⋮        ⋮      ⋮       ⋮\n",
       " 339 │     2     297  381.692    461.305      1      1  2.77007\n",
       " 340 │     2     298  179.54     261.348      1      1  3.5259\n",
       " 341 │     2     301  447.575    242.186      2      5  2.65963\n",
       " 342 │     2     304  452.255    187.252      1      1  3.37797\n",
       " 343 │     2     305  268.831    206.332      1      1  3.31043\n",
       " 344 │     2     306  472.054    241.524      2      7  2.56473\n",
       " 345 │     2     307  210.017    268.159      1      1  3.10738\n",
       " 346 │     2     310  381.392    372.578      1      1  3.47268\n",
       " 347 │     2     311  394.102    325.472      1      1  3.16194\n",
       " 348 │     2     312  220.369    422.518      1      1  3.81573\n",
       "\u001b[36m                                                327 rows omitted\u001b[0m"
      ]
     },
     "execution_count": 64,
     "metadata": {},
     "output_type": "execute_result"
    }
   ],
   "source": [
    "ai"
   ]
  },
  {
   "cell_type": "code",
   "execution_count": 65,
   "metadata": {},
   "outputs": [],
   "source": [
    "CSV.write(joinpath(datasetdir, \"ai.csv\"), ai);"
   ]
  },
  {
   "cell_type": "markdown",
   "metadata": {},
   "source": [
    "# Transfer Entropy"
   ]
  },
  {
   "cell_type": "code",
   "execution_count": 66,
   "metadata": {},
   "outputs": [
    {
     "data": {
      "text/plain": [
       "10"
      ]
     },
     "execution_count": 66,
     "metadata": {},
     "output_type": "execute_result"
    }
   ],
   "source": [
    "nperm = 10"
   ]
  },
  {
   "cell_type": "code",
   "execution_count": 67,
   "metadata": {},
   "outputs": [
    {
     "name": "stdout",
     "output_type": "stream",
     "text": [
      " 78.634892 seconds (14.64 M allocations: 707.681 MiB, 0.39% gc time)\n"
     ]
    }
   ],
   "source": [
    "@time phase1_te_matrix, phase1_delay_matrix = te_matrix(phase1_c, phase1_ks, phase1_τs, 1:10; nperm, nn=nn1);"
   ]
  },
  {
   "cell_type": "code",
   "execution_count": 68,
   "metadata": {},
   "outputs": [
    {
     "name": "stdout",
     "output_type": "stream",
     "text": [
      " 33.570808 seconds (13.12 M allocations: 616.060 MiB, 0.75% gc time)\n"
     ]
    }
   ],
   "source": [
    "@time phase2_te_matrix, phase2_delay_matrix = te_matrix(phase2_c, phase2_ks, phase2_τs, 1:10; nperm, nn=nn2);"
   ]
  },
  {
   "cell_type": "code",
   "execution_count": 72,
   "metadata": {},
   "outputs": [],
   "source": [
    "te = DataFrame(phase=Int[],\n",
    "               source=Int[], target=Int[],\n",
    "               source_x=Float64[], source_y=Float64[], target_x=Float64[], target_y=Float64[],\n",
    "               distance=Float64[],\n",
    "               k=Int[], τ=Int[], delay=Int[],\n",
    "               value=Float64[], p=Float64[], nperm=Int[])\n",
    "for i in 1:size(phase1_te_matrix, 1), j in 1:size(phase1_te_matrix, 2)\n",
    "    source, source_x, source_y = phase1_com[i, [:cellid, :x, :y]]\n",
    "    target, target_x, target_y = phase1_com[j, [:cellid, :x, :y]]\n",
    "    δ = phase1_δ[i, j]\n",
    "    sig = phase1_te_matrix[i, j]\n",
    "    k = phase1_ks[j]\n",
    "    τ = phase1_τs[j]\n",
    "    delay = phase1_delay_matrix[i, j]\n",
    "    push!(te, [1, source, target, source_x, source_y, target_x, target_y, δ, k, τ, delay, sig.value, sig.p, sig.nperm])\n",
    "end\n",
    "for i in 1:size(phase2_te_matrix, 1), j in 1:size(phase2_te_matrix, 2)\n",
    "    source, source_x, source_y = phase2_com[i, [:cellid, :x, :y]]\n",
    "    target, target_x, target_y = phase2_com[j, [:cellid, :x, :y]]\n",
    "    δ = phase2_δ[i, j]\n",
    "    sig = phase2_te_matrix[i, j]\n",
    "    k = phase2_ks[j]\n",
    "    τ = phase2_τs[j]\n",
    "    delay = phase2_delay_matrix[i, j]\n",
    "    push!(te, [2, source, target, source_x, source_y, target_x, target_y, δ, k, τ, delay, sig.value, sig.p, sig.nperm])\n",
    "end"
   ]
  },
  {
   "cell_type": "code",
   "execution_count": 73,
   "metadata": {},
   "outputs": [
    {
     "data": {
      "text/html": [
       "<table class=\"data-frame\"><thead><tr><th></th><th>phase</th><th>source</th><th>target</th><th>source_x</th><th>source_y</th><th>target_x</th><th>target_y</th><th>distance</th><th>k</th></tr><tr><th></th><th>Int64</th><th>Int64</th><th>Int64</th><th>Float64</th><th>Float64</th><th>Float64</th><th>Float64</th><th>Float64</th><th>Int64</th></tr></thead><tbody><p>60,584 rows × 14 columns (omitted printing of 5 columns)</p><tr><th>1</th><td>1</td><td>18</td><td>18</td><td>72.8974</td><td>145.022</td><td>72.8974</td><td>145.022</td><td>0.0</td><td>1</td></tr><tr><th>2</th><td>1</td><td>18</td><td>19</td><td>72.8974</td><td>145.022</td><td>73.0881</td><td>151.173</td><td>6.15381</td><td>1</td></tr><tr><th>3</th><td>1</td><td>18</td><td>20</td><td>72.8974</td><td>145.022</td><td>64.5041</td><td>159.257</td><td>16.5256</td><td>1</td></tr><tr><th>4</th><td>1</td><td>18</td><td>21</td><td>72.8974</td><td>145.022</td><td>62.3608</td><td>182.609</td><td>39.036</td><td>1</td></tr><tr><th>5</th><td>1</td><td>18</td><td>22</td><td>72.8974</td><td>145.022</td><td>62.6136</td><td>197.611</td><td>53.5849</td><td>1</td></tr><tr><th>6</th><td>1</td><td>18</td><td>31</td><td>72.8974</td><td>145.022</td><td>92.4286</td><td>145.281</td><td>19.533</td><td>1</td></tr><tr><th>7</th><td>1</td><td>18</td><td>32</td><td>72.8974</td><td>145.022</td><td>81.4372</td><td>158.033</td><td>15.5631</td><td>1</td></tr><tr><th>8</th><td>1</td><td>18</td><td>33</td><td>72.8974</td><td>145.022</td><td>90.8739</td><td>154.183</td><td>20.1764</td><td>1</td></tr><tr><th>9</th><td>1</td><td>18</td><td>34</td><td>72.8974</td><td>145.022</td><td>86.8677</td><td>175.241</td><td>33.2919</td><td>1</td></tr><tr><th>10</th><td>1</td><td>18</td><td>35</td><td>72.8974</td><td>145.022</td><td>95.6298</td><td>189.004</td><td>49.5095</td><td>1</td></tr><tr><th>11</th><td>1</td><td>18</td><td>36</td><td>72.8974</td><td>145.022</td><td>96.1405</td><td>201.438</td><td>61.0171</td><td>1</td></tr><tr><th>12</th><td>1</td><td>18</td><td>42</td><td>72.8974</td><td>145.022</td><td>120.334</td><td>143.399</td><td>47.4643</td><td>1</td></tr><tr><th>13</th><td>1</td><td>18</td><td>43</td><td>72.8974</td><td>145.022</td><td>110.436</td><td>167.952</td><td>43.9884</td><td>1</td></tr><tr><th>14</th><td>1</td><td>18</td><td>44</td><td>72.8974</td><td>145.022</td><td>116.386</td><td>158.74</td><td>45.6006</td><td>1</td></tr><tr><th>15</th><td>1</td><td>18</td><td>45</td><td>72.8974</td><td>145.022</td><td>103.98</td><td>180.529</td><td>47.1899</td><td>1</td></tr><tr><th>16</th><td>1</td><td>18</td><td>46</td><td>72.8974</td><td>145.022</td><td>113.333</td><td>192.086</td><td>62.0491</td><td>1</td></tr><tr><th>17</th><td>1</td><td>18</td><td>47</td><td>72.8974</td><td>145.022</td><td>113.894</td><td>181.078</td><td>54.5971</td><td>1</td></tr><tr><th>18</th><td>1</td><td>18</td><td>48</td><td>72.8974</td><td>145.022</td><td>111.887</td><td>199.871</td><td>67.2953</td><td>1</td></tr><tr><th>19</th><td>1</td><td>18</td><td>49</td><td>72.8974</td><td>145.022</td><td>121.12</td><td>197.435</td><td>71.2222</td><td>1</td></tr><tr><th>20</th><td>1</td><td>18</td><td>50</td><td>72.8974</td><td>145.022</td><td>112.083</td><td>234.341</td><td>97.5371</td><td>1</td></tr><tr><th>21</th><td>1</td><td>18</td><td>51</td><td>72.8974</td><td>145.022</td><td>119.788</td><td>221.612</td><td>89.8038</td><td>1</td></tr><tr><th>22</th><td>1</td><td>18</td><td>52</td><td>72.8974</td><td>145.022</td><td>106.57</td><td>245.208</td><td>105.694</td><td>1</td></tr><tr><th>23</th><td>1</td><td>18</td><td>53</td><td>72.8974</td><td>145.022</td><td>119.996</td><td>304.739</td><td>166.517</td><td>1</td></tr><tr><th>24</th><td>1</td><td>18</td><td>54</td><td>72.8974</td><td>145.022</td><td>119.777</td><td>326.423</td><td>187.361</td><td>1</td></tr><tr><th>25</th><td>1</td><td>18</td><td>60</td><td>72.8974</td><td>145.022</td><td>137.662</td><td>120.477</td><td>69.2593</td><td>1</td></tr><tr><th>26</th><td>1</td><td>18</td><td>61</td><td>72.8974</td><td>145.022</td><td>126.571</td><td>113.757</td><td>62.1157</td><td>1</td></tr><tr><th>27</th><td>1</td><td>18</td><td>62</td><td>72.8974</td><td>145.022</td><td>133.788</td><td>136.307</td><td>61.5108</td><td>1</td></tr><tr><th>28</th><td>1</td><td>18</td><td>63</td><td>72.8974</td><td>145.022</td><td>124.156</td><td>143.646</td><td>51.277</td><td>1</td></tr><tr><th>29</th><td>1</td><td>18</td><td>64</td><td>72.8974</td><td>145.022</td><td>138.884</td><td>158.393</td><td>67.3282</td><td>1</td></tr><tr><th>30</th><td>1</td><td>18</td><td>65</td><td>72.8974</td><td>145.022</td><td>144.025</td><td>188.686</td><td>83.4608</td><td>1</td></tr><tr><th>&vellip;</th><td>&vellip;</td><td>&vellip;</td><td>&vellip;</td><td>&vellip;</td><td>&vellip;</td><td>&vellip;</td><td>&vellip;</td><td>&vellip;</td><td>&vellip;</td></tr></tbody></table>"
      ],
      "text/latex": [
       "\\begin{tabular}{r|cccccccccc}\n",
       "\t& phase & source & target & source\\_x & source\\_y & target\\_x & target\\_y & distance & k & \\\\\n",
       "\t\\hline\n",
       "\t& Int64 & Int64 & Int64 & Float64 & Float64 & Float64 & Float64 & Float64 & Int64 & \\\\\n",
       "\t\\hline\n",
       "\t1 & 1 & 18 & 18 & 72.8974 & 145.022 & 72.8974 & 145.022 & 0.0 & 1 & $\\dots$ \\\\\n",
       "\t2 & 1 & 18 & 19 & 72.8974 & 145.022 & 73.0881 & 151.173 & 6.15381 & 1 & $\\dots$ \\\\\n",
       "\t3 & 1 & 18 & 20 & 72.8974 & 145.022 & 64.5041 & 159.257 & 16.5256 & 1 & $\\dots$ \\\\\n",
       "\t4 & 1 & 18 & 21 & 72.8974 & 145.022 & 62.3608 & 182.609 & 39.036 & 1 & $\\dots$ \\\\\n",
       "\t5 & 1 & 18 & 22 & 72.8974 & 145.022 & 62.6136 & 197.611 & 53.5849 & 1 & $\\dots$ \\\\\n",
       "\t6 & 1 & 18 & 31 & 72.8974 & 145.022 & 92.4286 & 145.281 & 19.533 & 1 & $\\dots$ \\\\\n",
       "\t7 & 1 & 18 & 32 & 72.8974 & 145.022 & 81.4372 & 158.033 & 15.5631 & 1 & $\\dots$ \\\\\n",
       "\t8 & 1 & 18 & 33 & 72.8974 & 145.022 & 90.8739 & 154.183 & 20.1764 & 1 & $\\dots$ \\\\\n",
       "\t9 & 1 & 18 & 34 & 72.8974 & 145.022 & 86.8677 & 175.241 & 33.2919 & 1 & $\\dots$ \\\\\n",
       "\t10 & 1 & 18 & 35 & 72.8974 & 145.022 & 95.6298 & 189.004 & 49.5095 & 1 & $\\dots$ \\\\\n",
       "\t11 & 1 & 18 & 36 & 72.8974 & 145.022 & 96.1405 & 201.438 & 61.0171 & 1 & $\\dots$ \\\\\n",
       "\t12 & 1 & 18 & 42 & 72.8974 & 145.022 & 120.334 & 143.399 & 47.4643 & 1 & $\\dots$ \\\\\n",
       "\t13 & 1 & 18 & 43 & 72.8974 & 145.022 & 110.436 & 167.952 & 43.9884 & 1 & $\\dots$ \\\\\n",
       "\t14 & 1 & 18 & 44 & 72.8974 & 145.022 & 116.386 & 158.74 & 45.6006 & 1 & $\\dots$ \\\\\n",
       "\t15 & 1 & 18 & 45 & 72.8974 & 145.022 & 103.98 & 180.529 & 47.1899 & 1 & $\\dots$ \\\\\n",
       "\t16 & 1 & 18 & 46 & 72.8974 & 145.022 & 113.333 & 192.086 & 62.0491 & 1 & $\\dots$ \\\\\n",
       "\t17 & 1 & 18 & 47 & 72.8974 & 145.022 & 113.894 & 181.078 & 54.5971 & 1 & $\\dots$ \\\\\n",
       "\t18 & 1 & 18 & 48 & 72.8974 & 145.022 & 111.887 & 199.871 & 67.2953 & 1 & $\\dots$ \\\\\n",
       "\t19 & 1 & 18 & 49 & 72.8974 & 145.022 & 121.12 & 197.435 & 71.2222 & 1 & $\\dots$ \\\\\n",
       "\t20 & 1 & 18 & 50 & 72.8974 & 145.022 & 112.083 & 234.341 & 97.5371 & 1 & $\\dots$ \\\\\n",
       "\t21 & 1 & 18 & 51 & 72.8974 & 145.022 & 119.788 & 221.612 & 89.8038 & 1 & $\\dots$ \\\\\n",
       "\t22 & 1 & 18 & 52 & 72.8974 & 145.022 & 106.57 & 245.208 & 105.694 & 1 & $\\dots$ \\\\\n",
       "\t23 & 1 & 18 & 53 & 72.8974 & 145.022 & 119.996 & 304.739 & 166.517 & 1 & $\\dots$ \\\\\n",
       "\t24 & 1 & 18 & 54 & 72.8974 & 145.022 & 119.777 & 326.423 & 187.361 & 1 & $\\dots$ \\\\\n",
       "\t25 & 1 & 18 & 60 & 72.8974 & 145.022 & 137.662 & 120.477 & 69.2593 & 1 & $\\dots$ \\\\\n",
       "\t26 & 1 & 18 & 61 & 72.8974 & 145.022 & 126.571 & 113.757 & 62.1157 & 1 & $\\dots$ \\\\\n",
       "\t27 & 1 & 18 & 62 & 72.8974 & 145.022 & 133.788 & 136.307 & 61.5108 & 1 & $\\dots$ \\\\\n",
       "\t28 & 1 & 18 & 63 & 72.8974 & 145.022 & 124.156 & 143.646 & 51.277 & 1 & $\\dots$ \\\\\n",
       "\t29 & 1 & 18 & 64 & 72.8974 & 145.022 & 138.884 & 158.393 & 67.3282 & 1 & $\\dots$ \\\\\n",
       "\t30 & 1 & 18 & 65 & 72.8974 & 145.022 & 144.025 & 188.686 & 83.4608 & 1 & $\\dots$ \\\\\n",
       "\t$\\dots$ & $\\dots$ & $\\dots$ & $\\dots$ & $\\dots$ & $\\dots$ & $\\dots$ & $\\dots$ & $\\dots$ & $\\dots$ &  \\\\\n",
       "\\end{tabular}\n"
      ],
      "text/plain": [
       "\u001b[1m60584×14 DataFrame\u001b[0m\n",
       "\u001b[1m   Row \u001b[0m│\u001b[1m phase \u001b[0m\u001b[1m source \u001b[0m\u001b[1m target \u001b[0m\u001b[1m source_x \u001b[0m\u001b[1m source_y \u001b[0m\u001b[1m target_x \u001b[0m\u001b[1m target_y \u001b[0m\u001b[1m distan\u001b[0m ⋯\n",
       "\u001b[1m       \u001b[0m│\u001b[90m Int64 \u001b[0m\u001b[90m Int64  \u001b[0m\u001b[90m Int64  \u001b[0m\u001b[90m Float64  \u001b[0m\u001b[90m Float64  \u001b[0m\u001b[90m Float64  \u001b[0m\u001b[90m Float64  \u001b[0m\u001b[90m Float6\u001b[0m ⋯\n",
       "───────┼────────────────────────────────────────────────────────────────────────\n",
       "     1 │     1      18      18   72.8974   145.022   72.8974   145.022    0.0  ⋯\n",
       "     2 │     1      18      19   72.8974   145.022   73.0881   151.173    6.15\n",
       "     3 │     1      18      20   72.8974   145.022   64.5041   159.257   16.52\n",
       "     4 │     1      18      21   72.8974   145.022   62.3608   182.609   39.03\n",
       "     5 │     1      18      22   72.8974   145.022   62.6136   197.611   53.58 ⋯\n",
       "     6 │     1      18      31   72.8974   145.022   92.4286   145.281   19.53\n",
       "     7 │     1      18      32   72.8974   145.022   81.4372   158.033   15.56\n",
       "     8 │     1      18      33   72.8974   145.022   90.8739   154.183   20.17\n",
       "     9 │     1      18      34   72.8974   145.022   86.8677   175.241   33.29 ⋯\n",
       "    10 │     1      18      35   72.8974   145.022   95.6298   189.004   49.50\n",
       "    11 │     1      18      36   72.8974   145.022   96.1405   201.438   61.01\n",
       "   ⋮   │   ⋮      ⋮       ⋮        ⋮         ⋮         ⋮         ⋮          ⋮  ⋱\n",
       " 60575 │     2     312     297  220.369    422.518  381.692    461.305  165.92\n",
       " 60576 │     2     312     298  220.369    422.518  179.54     261.348  166.26 ⋯\n",
       " 60577 │     2     312     301  220.369    422.518  447.575    242.186  290.07\n",
       " 60578 │     2     312     304  220.369    422.518  452.255    187.252  330.33\n",
       " 60579 │     2     312     305  220.369    422.518  268.831    206.332  221.55\n",
       " 60580 │     2     312     306  220.369    422.518  472.054    241.524  310.00 ⋯\n",
       " 60581 │     2     312     307  220.369    422.518  210.017    268.159  154.70\n",
       " 60582 │     2     312     310  220.369    422.518  381.392    372.578  168.59\n",
       " 60583 │     2     312     311  220.369    422.518  394.102    325.472  199.00\n",
       " 60584 │     2     312     312  220.369    422.518  220.369    422.518    0.0  ⋯\n",
       "\u001b[36m                                                7 columns and 60563 rows omitted\u001b[0m"
      ]
     },
     "execution_count": 73,
     "metadata": {},
     "output_type": "execute_result"
    }
   ],
   "source": [
    "te"
   ]
  },
  {
   "cell_type": "code",
   "execution_count": 74,
   "metadata": {},
   "outputs": [],
   "source": [
    "let params = @dict nperm nn1 nn2\n",
    "    fname = joinpath(datasetdir, savename(\"te\", params, \"csv\"))\n",
    "    CSV.write(fname, te)\n",
    "end;"
   ]
  }
 ],
 "metadata": {
  "kernelspec": {
   "display_name": "Julia 1.5.3",
   "language": "julia",
   "name": "julia-1.5"
  },
  "language_info": {
   "file_extension": ".jl",
   "mimetype": "application/julia",
   "name": "julia",
   "version": "1.5.3"
  }
 },
 "nbformat": 4,
 "nbformat_minor": 4
}
